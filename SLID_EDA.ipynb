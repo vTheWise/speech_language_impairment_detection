{
  "nbformat": 4,
  "nbformat_minor": 0,
  "metadata": {
    "colab": {
      "provenance": [],
      "collapsed_sections": [
        "_aHs-fr-r5mp",
        "X--D9TG7t5__"
      ],
      "gpuType": "T4",
      "authorship_tag": "ABX9TyPq37Tjs0H+ZdJ1Ya6eFM1J",
      "include_colab_link": true
    },
    "kernelspec": {
      "name": "python3",
      "display_name": "Python 3"
    },
    "language_info": {
      "name": "python"
    },
    "accelerator": "GPU",
    "gpuClass": "standard"
  },
  "cells": [
    {
      "cell_type": "markdown",
      "metadata": {
        "id": "view-in-github",
        "colab_type": "text"
      },
      "source": [
        "<a href=\"https://colab.research.google.com/github/vTheWise/speech_language_impairment_detection/blob/vs_data_preprocessing/SLID_EDA.ipynb\" target=\"_parent\"><img src=\"https://colab.research.google.com/assets/colab-badge.svg\" alt=\"Open In Colab\"/></a>"
      ]
    },
    {
      "cell_type": "markdown",
      "source": [
        "# Index\n",
        "\n",
        "1. Total number of records\n",
        "2. Number of participants\n",
        "3. ..."
      ],
      "metadata": {
        "id": "sMszu6SCyoME"
      }
    },
    {
      "cell_type": "markdown",
      "source": [
        "# Installations"
      ],
      "metadata": {
        "id": "_aHs-fr-r5mp"
      }
    },
    {
      "cell_type": "code",
      "execution_count": 1,
      "metadata": {
        "colab": {
          "base_uri": "https://localhost:8080/"
        },
        "id": "rlNr-zT_oRjw",
        "outputId": "c76a5a1e-f234-451f-9c1c-9a8d7412fcb7"
      },
      "outputs": [
        {
          "output_type": "stream",
          "name": "stdout",
          "text": [
            "Looking in indexes: https://pypi.org/simple, https://us-python.pkg.dev/colab-wheels/public/simple/\n",
            "Requirement already satisfied: librosa in /usr/local/lib/python3.9/dist-packages (0.10.0.post2)\n",
            "Requirement already satisfied: lazy-loader>=0.1 in /usr/local/lib/python3.9/dist-packages (from librosa) (0.2)\n",
            "Requirement already satisfied: soxr>=0.3.2 in /usr/local/lib/python3.9/dist-packages (from librosa) (0.3.5)\n",
            "Requirement already satisfied: audioread>=2.1.9 in /usr/local/lib/python3.9/dist-packages (from librosa) (3.0.0)\n",
            "Requirement already satisfied: scipy>=1.2.0 in /usr/local/lib/python3.9/dist-packages (from librosa) (1.10.1)\n",
            "Requirement already satisfied: decorator>=4.3.0 in /usr/local/lib/python3.9/dist-packages (from librosa) (4.4.2)\n",
            "Requirement already satisfied: typing-extensions>=4.1.1 in /usr/local/lib/python3.9/dist-packages (from librosa) (4.5.0)\n",
            "Requirement already satisfied: msgpack>=1.0 in /usr/local/lib/python3.9/dist-packages (from librosa) (1.0.5)\n",
            "Requirement already satisfied: scikit-learn>=0.20.0 in /usr/local/lib/python3.9/dist-packages (from librosa) (1.2.2)\n",
            "Requirement already satisfied: numpy!=1.22.0,!=1.22.1,!=1.22.2,>=1.20.3 in /usr/local/lib/python3.9/dist-packages (from librosa) (1.22.4)\n",
            "Requirement already satisfied: numba>=0.51.0 in /usr/local/lib/python3.9/dist-packages (from librosa) (0.56.4)\n",
            "Requirement already satisfied: pooch<1.7,>=1.0 in /usr/local/lib/python3.9/dist-packages (from librosa) (1.6.0)\n",
            "Requirement already satisfied: joblib>=0.14 in /usr/local/lib/python3.9/dist-packages (from librosa) (1.2.0)\n",
            "Requirement already satisfied: soundfile>=0.12.1 in /usr/local/lib/python3.9/dist-packages (from librosa) (0.12.1)\n",
            "Requirement already satisfied: llvmlite<0.40,>=0.39.0dev0 in /usr/local/lib/python3.9/dist-packages (from numba>=0.51.0->librosa) (0.39.1)\n",
            "Requirement already satisfied: setuptools in /usr/local/lib/python3.9/dist-packages (from numba>=0.51.0->librosa) (67.7.2)\n",
            "Requirement already satisfied: requests>=2.19.0 in /usr/local/lib/python3.9/dist-packages (from pooch<1.7,>=1.0->librosa) (2.27.1)\n",
            "Requirement already satisfied: packaging>=20.0 in /usr/local/lib/python3.9/dist-packages (from pooch<1.7,>=1.0->librosa) (23.1)\n",
            "Requirement already satisfied: appdirs>=1.3.0 in /usr/local/lib/python3.9/dist-packages (from pooch<1.7,>=1.0->librosa) (1.4.4)\n",
            "Requirement already satisfied: threadpoolctl>=2.0.0 in /usr/local/lib/python3.9/dist-packages (from scikit-learn>=0.20.0->librosa) (3.1.0)\n",
            "Requirement already satisfied: cffi>=1.0 in /usr/local/lib/python3.9/dist-packages (from soundfile>=0.12.1->librosa) (1.15.1)\n",
            "Requirement already satisfied: pycparser in /usr/local/lib/python3.9/dist-packages (from cffi>=1.0->soundfile>=0.12.1->librosa) (2.21)\n",
            "Requirement already satisfied: charset-normalizer~=2.0.0 in /usr/local/lib/python3.9/dist-packages (from requests>=2.19.0->pooch<1.7,>=1.0->librosa) (2.0.12)\n",
            "Requirement already satisfied: urllib3<1.27,>=1.21.1 in /usr/local/lib/python3.9/dist-packages (from requests>=2.19.0->pooch<1.7,>=1.0->librosa) (1.26.15)\n",
            "Requirement already satisfied: certifi>=2017.4.17 in /usr/local/lib/python3.9/dist-packages (from requests>=2.19.0->pooch<1.7,>=1.0->librosa) (2022.12.7)\n",
            "Requirement already satisfied: idna<4,>=2.5 in /usr/local/lib/python3.9/dist-packages (from requests>=2.19.0->pooch<1.7,>=1.0->librosa) (3.4)\n"
          ]
        }
      ],
      "source": [
        "!pip install librosa"
      ]
    },
    {
      "cell_type": "markdown",
      "source": [
        "# Importing Modules"
      ],
      "metadata": {
        "id": "wjSF7KEur-SU"
      }
    },
    {
      "cell_type": "code",
      "source": [
        "import numpy as np\n",
        "import pandas as pd\n",
        "import os\n",
        "import librosa\n",
        "import matplotlib as mpl\n",
        "import matplotlib.pyplot as plt\n",
        "import ipywidgets as widgets\n",
        "import seaborn as sns\n",
        "from sklearn import preprocessing\n",
        "from google.colab import drive\n",
        "import glob\n",
        "from scipy.io import wavfile"
      ],
      "metadata": {
        "id": "EGLW3sT6rczi"
      },
      "execution_count": 1,
      "outputs": []
    },
    {
      "cell_type": "markdown",
      "source": [
        "# Load data"
      ],
      "metadata": {
        "id": "D6WuJ0N0ZWft"
      }
    },
    {
      "cell_type": "code",
      "source": [
        "drive.mount('/content/drive')"
      ],
      "metadata": {
        "colab": {
          "base_uri": "https://localhost:8080/"
        },
        "id": "zjHCcb_qZa2A",
        "outputId": "3678a837-a265-489a-a543-e8854a9df1ae"
      },
      "execution_count": 2,
      "outputs": [
        {
          "output_type": "stream",
          "name": "stdout",
          "text": [
            "Mounted at /content/drive\n"
          ]
        }
      ]
    },
    {
      "cell_type": "code",
      "source": [
        "root_path = \"drive/MyDrive/slid_database/Auburn_University_SEED/Children/\"\n",
        "\n",
        "auburn_disordered_path = root_path+\"Child_Disordered_Speech\"\n",
        "auburn_disordered_data = []\n",
        "auburn_disordered_sRate = []\n",
        "\n",
        "auburn_non_disordered_path = root_path+\"Child_Non_Disordered_Speech\"\n",
        "auburn_non_disordered_data = []\n",
        "auburn_non_disordered_sRate = []\n",
        "\n",
        "cincinnati_disordered_path = root_path+\"Disordered_Speech\"\n",
        "cincinnati_disordered_data = []\n",
        "cincinnati_disordered_sRate = []\n",
        "\n",
        "cincinnati_non_disordered_path = root_path+\"Non_Disordered_Speech\"\n",
        "cincinnati_non_disordered_data = []\n",
        "cincinnati_non_disordered_sRate = []"
      ],
      "metadata": {
        "id": "T96o3uL5bCm0"
      },
      "execution_count": 14,
      "outputs": []
    },
    {
      "cell_type": "code",
      "source": [
        "def readAudioData(path):\n",
        "  audioData = []\n",
        "  sRate = []\n",
        "  for root, sub, files in os.walk(path):\n",
        "      files = sorted(files)\n",
        "      for f in files:\n",
        "          samplerate, data  =  wavfile.read(os.path.join(root, f))\n",
        "          sRate.append(samplerate)\n",
        "          audioData.append(data)\n",
        "  return audioData, sRate"
      ],
      "metadata": {
        "id": "_dqCuOQ4aNhF"
      },
      "execution_count": 15,
      "outputs": []
    },
    {
      "cell_type": "code",
      "source": [
        "auburn_disordered_data, auburn_disordered_sRate = readAudioData(auburn_disordered_path)"
      ],
      "metadata": {
        "id": "1Xv3a7IBbcHZ"
      },
      "execution_count": null,
      "outputs": []
    },
    {
      "cell_type": "code",
      "source": [
        "auburn_non_disordered_data, auburn_non_disordered_sRate = readAudioData(auburn_non_disordered_path)"
      ],
      "metadata": {
        "id": "v2wcyhPwdNvx"
      },
      "execution_count": 8,
      "outputs": []
    },
    {
      "cell_type": "code",
      "source": [
        "cincinnati_disordered_data, cincinnati_disordered_sRate = readAudioData(cincinnati_disordered_path)"
      ],
      "metadata": {
        "id": "3As2UD1JdN10"
      },
      "execution_count": 9,
      "outputs": []
    },
    {
      "cell_type": "code",
      "source": [
        "cincinnati_non_disordered_data, cincinnati_non_disordered_sRate = readAudioData(cincinnati_non_disordered_path)"
      ],
      "metadata": {
        "id": "H3dEay-UdN7E"
      },
      "execution_count": 10,
      "outputs": []
    },
    {
      "cell_type": "code",
      "source": [
        "auburn_disordered_data"
      ],
      "metadata": {
        "colab": {
          "base_uri": "https://localhost:8080/"
        },
        "id": "VkoWjp3wdWwT",
        "outputId": "e381e3a9-305c-4331-9524-b74e0e8b2b75"
      },
      "execution_count": 11,
      "outputs": [
        {
          "output_type": "execute_result",
          "data": {
            "text/plain": [
              "[]"
            ]
          },
          "metadata": {},
          "execution_count": 11
        }
      ]
    },
    {
      "cell_type": "markdown",
      "source": [
        "# Global Configurations"
      ],
      "metadata": {
        "id": "0ILSbs9IsEaF"
      }
    },
    {
      "cell_type": "markdown",
      "source": [
        "## Plots"
      ],
      "metadata": {
        "id": "X--D9TG7t5__"
      }
    },
    {
      "cell_type": "code",
      "source": [
        "sns.set_style(\"whitegrid\")\n",
        "sns.set_palette(\"muted\")\n",
        "plt.rcParams[\"xtick.labelsize\"] = 14\n",
        "plt.rcParams[\"ytick.labelsize\"] = 14\n",
        "plt.rcParams[\"patch.force_edgecolor\"] = True"
      ],
      "metadata": {
        "id": "IlxXumcSt-DZ"
      },
      "execution_count": 6,
      "outputs": []
    },
    {
      "cell_type": "code",
      "source": [],
      "metadata": {
        "id": "WpVefgqZt-6t"
      },
      "execution_count": null,
      "outputs": []
    }
  ]
}