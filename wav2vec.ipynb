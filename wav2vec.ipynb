{
  "nbformat": 4,
  "nbformat_minor": 0,
  "metadata": {
    "colab": {
      "provenance": [],
      "collapsed_sections": [
        "uLKSiOsk2lUd",
        "q_lREGJzwW7S",
        "ZQlcb4gT2wmC",
        "1DyA3YE38r1q",
        "WgLgEKKg93VR"
      ],
      "gpuType": "T4",
      "include_colab_link": true
    },
    "kernelspec": {
      "name": "python3",
      "display_name": "Python 3"
    },
    "language_info": {
      "name": "python"
    },
    "accelerator": "GPU"
  },
  "cells": [
    {
      "cell_type": "markdown",
      "metadata": {
        "id": "view-in-github",
        "colab_type": "text"
      },
      "source": [
        "<a href=\"https://colab.research.google.com/github/vTheWise/speech_language_impairment_detection/blob/main/wav2vec.ipynb\" target=\"_parent\"><img src=\"https://colab.research.google.com/assets/colab-badge.svg\" alt=\"Open In Colab\"/></a>"
      ]
    },
    {
      "cell_type": "markdown",
      "source": [
        "# Mounting the drive (optional) \n",
        "- Mount the drive if the data is stored in the google drive"
      ],
      "metadata": {
        "id": "nPM6evWY2jd2"
      }
    },
    {
      "cell_type": "code",
      "execution_count": 1,
      "metadata": {
        "colab": {
          "base_uri": "https://localhost:8080/"
        },
        "id": "0LYlXicQYPgN",
        "outputId": "a4add4b4-14b9-40a3-f61c-6df3f79d58a2"
      },
      "outputs": [
        {
          "output_type": "stream",
          "name": "stdout",
          "text": [
            "Mounted at /content/drive\n"
          ]
        }
      ],
      "source": [
        "from google.colab import drive\n",
        "drive.mount('/content/drive')"
      ]
    },
    {
      "cell_type": "markdown",
      "source": [
        "# Installations\n",
        "\n",
        "- Install all the required packages"
      ],
      "metadata": {
        "id": "uLKSiOsk2lUd"
      }
    },
    {
      "cell_type": "code",
      "source": [
        "!pip install transformers"
      ],
      "metadata": {
        "colab": {
          "base_uri": "https://localhost:8080/"
        },
        "id": "mL6NXADqiv8C",
        "outputId": "4a944b07-9aaa-4462-9f42-38dff9710b98"
      },
      "execution_count": 2,
      "outputs": [
        {
          "output_type": "stream",
          "name": "stdout",
          "text": [
            "Looking in indexes: https://pypi.org/simple, https://us-python.pkg.dev/colab-wheels/public/simple/\n",
            "Collecting transformers\n",
            "  Downloading transformers-4.29.2-py3-none-any.whl (7.1 MB)\n",
            "\u001b[2K     \u001b[90m━━━━━━━━━━━━━━━━━━━━━━━━━━━━━━━━━━━━━━━━\u001b[0m \u001b[32m7.1/7.1 MB\u001b[0m \u001b[31m94.5 MB/s\u001b[0m eta \u001b[36m0:00:00\u001b[0m\n",
            "\u001b[?25hRequirement already satisfied: filelock in /usr/local/lib/python3.10/dist-packages (from transformers) (3.12.0)\n",
            "Collecting huggingface-hub<1.0,>=0.14.1 (from transformers)\n",
            "  Downloading huggingface_hub-0.15.1-py3-none-any.whl (236 kB)\n",
            "\u001b[2K     \u001b[90m━━━━━━━━━━━━━━━━━━━━━━━━━━━━━━━━━━━━━━\u001b[0m \u001b[32m236.8/236.8 kB\u001b[0m \u001b[31m28.5 MB/s\u001b[0m eta \u001b[36m0:00:00\u001b[0m\n",
            "\u001b[?25hRequirement already satisfied: numpy>=1.17 in /usr/local/lib/python3.10/dist-packages (from transformers) (1.22.4)\n",
            "Requirement already satisfied: packaging>=20.0 in /usr/local/lib/python3.10/dist-packages (from transformers) (23.1)\n",
            "Requirement already satisfied: pyyaml>=5.1 in /usr/local/lib/python3.10/dist-packages (from transformers) (6.0)\n",
            "Requirement already satisfied: regex!=2019.12.17 in /usr/local/lib/python3.10/dist-packages (from transformers) (2022.10.31)\n",
            "Requirement already satisfied: requests in /usr/local/lib/python3.10/dist-packages (from transformers) (2.27.1)\n",
            "Collecting tokenizers!=0.11.3,<0.14,>=0.11.1 (from transformers)\n",
            "  Downloading tokenizers-0.13.3-cp310-cp310-manylinux_2_17_x86_64.manylinux2014_x86_64.whl (7.8 MB)\n",
            "\u001b[2K     \u001b[90m━━━━━━━━━━━━━━━━━━━━━━━━━━━━━━━━━━━━━━━━\u001b[0m \u001b[32m7.8/7.8 MB\u001b[0m \u001b[31m126.5 MB/s\u001b[0m eta \u001b[36m0:00:00\u001b[0m\n",
            "\u001b[?25hRequirement already satisfied: tqdm>=4.27 in /usr/local/lib/python3.10/dist-packages (from transformers) (4.65.0)\n",
            "Requirement already satisfied: fsspec in /usr/local/lib/python3.10/dist-packages (from huggingface-hub<1.0,>=0.14.1->transformers) (2023.4.0)\n",
            "Requirement already satisfied: typing-extensions>=3.7.4.3 in /usr/local/lib/python3.10/dist-packages (from huggingface-hub<1.0,>=0.14.1->transformers) (4.5.0)\n",
            "Requirement already satisfied: urllib3<1.27,>=1.21.1 in /usr/local/lib/python3.10/dist-packages (from requests->transformers) (1.26.15)\n",
            "Requirement already satisfied: certifi>=2017.4.17 in /usr/local/lib/python3.10/dist-packages (from requests->transformers) (2022.12.7)\n",
            "Requirement already satisfied: charset-normalizer~=2.0.0 in /usr/local/lib/python3.10/dist-packages (from requests->transformers) (2.0.12)\n",
            "Requirement already satisfied: idna<4,>=2.5 in /usr/local/lib/python3.10/dist-packages (from requests->transformers) (3.4)\n",
            "Installing collected packages: tokenizers, huggingface-hub, transformers\n",
            "Successfully installed huggingface-hub-0.15.1 tokenizers-0.13.3 transformers-4.29.2\n"
          ]
        }
      ]
    },
    {
      "cell_type": "code",
      "source": [
        "!pip install librosa==0.8.0"
      ],
      "metadata": {
        "colab": {
          "base_uri": "https://localhost:8080/"
        },
        "id": "fknt76N_wJSD",
        "outputId": "7382e758-ce8d-44ed-a709-60031e00e2d9"
      },
      "execution_count": null,
      "outputs": [
        {
          "output_type": "stream",
          "name": "stdout",
          "text": [
            "Looking in indexes: https://pypi.org/simple, https://us-python.pkg.dev/colab-wheels/public/simple/\n",
            "Requirement already satisfied: librosa==0.8.0 in /usr/local/lib/python3.10/dist-packages (0.8.0)\n",
            "Requirement already satisfied: audioread>=2.0.0 in /usr/local/lib/python3.10/dist-packages (from librosa==0.8.0) (3.0.0)\n",
            "Requirement already satisfied: numpy>=1.15.0 in /usr/local/lib/python3.10/dist-packages (from librosa==0.8.0) (1.22.4)\n",
            "Requirement already satisfied: scipy>=1.0.0 in /usr/local/lib/python3.10/dist-packages (from librosa==0.8.0) (1.10.1)\n",
            "Requirement already satisfied: scikit-learn!=0.19.0,>=0.14.0 in /usr/local/lib/python3.10/dist-packages (from librosa==0.8.0) (1.2.2)\n",
            "Requirement already satisfied: joblib>=0.14 in /usr/local/lib/python3.10/dist-packages (from librosa==0.8.0) (1.2.0)\n",
            "Requirement already satisfied: decorator>=3.0.0 in /usr/local/lib/python3.10/dist-packages (from librosa==0.8.0) (4.4.2)\n",
            "Requirement already satisfied: resampy>=0.2.2 in /usr/local/lib/python3.10/dist-packages (from librosa==0.8.0) (0.4.2)\n",
            "Requirement already satisfied: numba>=0.43.0 in /usr/local/lib/python3.10/dist-packages (from librosa==0.8.0) (0.56.4)\n",
            "Requirement already satisfied: soundfile>=0.9.0 in /usr/local/lib/python3.10/dist-packages (from librosa==0.8.0) (0.12.1)\n",
            "Requirement already satisfied: pooch>=1.0 in /usr/local/lib/python3.10/dist-packages (from librosa==0.8.0) (1.6.0)\n",
            "Requirement already satisfied: llvmlite<0.40,>=0.39.0dev0 in /usr/local/lib/python3.10/dist-packages (from numba>=0.43.0->librosa==0.8.0) (0.39.1)\n",
            "Requirement already satisfied: setuptools in /usr/local/lib/python3.10/dist-packages (from numba>=0.43.0->librosa==0.8.0) (67.7.2)\n",
            "Requirement already satisfied: appdirs>=1.3.0 in /usr/local/lib/python3.10/dist-packages (from pooch>=1.0->librosa==0.8.0) (1.4.4)\n",
            "Requirement already satisfied: packaging>=20.0 in /usr/local/lib/python3.10/dist-packages (from pooch>=1.0->librosa==0.8.0) (23.1)\n",
            "Requirement already satisfied: requests>=2.19.0 in /usr/local/lib/python3.10/dist-packages (from pooch>=1.0->librosa==0.8.0) (2.27.1)\n",
            "Requirement already satisfied: threadpoolctl>=2.0.0 in /usr/local/lib/python3.10/dist-packages (from scikit-learn!=0.19.0,>=0.14.0->librosa==0.8.0) (3.1.0)\n",
            "Requirement already satisfied: cffi>=1.0 in /usr/local/lib/python3.10/dist-packages (from soundfile>=0.9.0->librosa==0.8.0) (1.15.1)\n",
            "Requirement already satisfied: pycparser in /usr/local/lib/python3.10/dist-packages (from cffi>=1.0->soundfile>=0.9.0->librosa==0.8.0) (2.21)\n",
            "Requirement already satisfied: urllib3<1.27,>=1.21.1 in /usr/local/lib/python3.10/dist-packages (from requests>=2.19.0->pooch>=1.0->librosa==0.8.0) (1.26.15)\n",
            "Requirement already satisfied: certifi>=2017.4.17 in /usr/local/lib/python3.10/dist-packages (from requests>=2.19.0->pooch>=1.0->librosa==0.8.0) (2022.12.7)\n",
            "Requirement already satisfied: charset-normalizer~=2.0.0 in /usr/local/lib/python3.10/dist-packages (from requests>=2.19.0->pooch>=1.0->librosa==0.8.0) (2.0.12)\n",
            "Requirement already satisfied: idna<4,>=2.5 in /usr/local/lib/python3.10/dist-packages (from requests>=2.19.0->pooch>=1.0->librosa==0.8.0) (3.4)\n"
          ]
        }
      ]
    },
    {
      "cell_type": "markdown",
      "source": [
        "# Import the required packages"
      ],
      "metadata": {
        "id": "33w-k7G82pHv"
      }
    },
    {
      "cell_type": "code",
      "source": [
        "from transformers import Wav2Vec2Processor, Wav2Vec2Model\n",
        "import librosa"
      ],
      "metadata": {
        "id": "L1gfryH6iulQ"
      },
      "execution_count": null,
      "outputs": []
    },
    {
      "cell_type": "code",
      "source": [
        "from imblearn.over_sampling import SMOTE"
      ],
      "metadata": {
        "id": "boNIQKHFMbnm"
      },
      "execution_count": 3,
      "outputs": []
    },
    {
      "cell_type": "code",
      "source": [
        "import torchaudio"
      ],
      "metadata": {
        "id": "wofp3Cuy_92P"
      },
      "execution_count": null,
      "outputs": []
    },
    {
      "cell_type": "code",
      "source": [
        "from sklearn.neural_network import MLPClassifier"
      ],
      "metadata": {
        "id": "l-YqWoNOBVok"
      },
      "execution_count": 11,
      "outputs": []
    },
    {
      "cell_type": "code",
      "source": [
        "import torch"
      ],
      "metadata": {
        "id": "BJ4r8wlexX7L"
      },
      "execution_count": null,
      "outputs": []
    },
    {
      "cell_type": "code",
      "source": [
        "import pickle"
      ],
      "metadata": {
        "id": "M1VHO1iX7ojE"
      },
      "execution_count": 9,
      "outputs": []
    },
    {
      "cell_type": "code",
      "source": [
        "from sklearn.metrics import classification_report\n",
        "from sklearn.metrics import confusion_matrix, ConfusionMatrixDisplay\n",
        "from matplotlib import pyplot"
      ],
      "metadata": {
        "id": "idvKcnBwCM8k"
      },
      "execution_count": 10,
      "outputs": []
    },
    {
      "cell_type": "code",
      "source": [
        "from sklearn.model_selection import train_test_split"
      ],
      "metadata": {
        "id": "BB5-7KGypeHz"
      },
      "execution_count": 12,
      "outputs": []
    },
    {
      "cell_type": "code",
      "source": [
        "import pandas as pd"
      ],
      "metadata": {
        "id": "bYNHqNNQqq_C"
      },
      "execution_count": 13,
      "outputs": []
    },
    {
      "cell_type": "markdown",
      "source": [
        "# Constants & Configurations"
      ],
      "metadata": {
        "id": "q_lREGJzwW7S"
      }
    },
    {
      "cell_type": "code",
      "source": [
        "device = torch.device(\"cuda\" if torch.cuda.is_available() else \"cpu\")"
      ],
      "metadata": {
        "id": "_rCZX3FfxVar"
      },
      "execution_count": null,
      "outputs": []
    },
    {
      "cell_type": "code",
      "source": [
        "labels = [0, 1]"
      ],
      "metadata": {
        "id": "6anYRIxtDvvx"
      },
      "execution_count": 5,
      "outputs": []
    },
    {
      "cell_type": "code",
      "source": [
        "auburn_disordered_filename = 'drive/MyDrive/MSAI/Practicum/slid_database/w2v_auburn_disordered.pkl'\n",
        "auburn_non_disordered_filename = 'drive/MyDrive/MSAI/Practicum/slid_database/w2v_auburn_non_disordered.pkl'\n",
        "cincinnati_disordered_filename = 'drive/MyDrive/MSAI/Practicum/slid_database/w2v_cincinnati_disordered.pkl'\n",
        "cincinnati_non_disordered_filename = 'drive/MyDrive/MSAI/Practicum/slid_database/w2v_cincinnati_non_disordered.pkl'"
      ],
      "metadata": {
        "id": "Z1e8_buaDl9T"
      },
      "execution_count": 6,
      "outputs": []
    },
    {
      "cell_type": "markdown",
      "source": [
        "# Data Loading"
      ],
      "metadata": {
        "id": "ZQlcb4gT2wmC"
      }
    },
    {
      "cell_type": "code",
      "source": [
        "def loadPickleData(filepath):\n",
        "  data = pickle.load(open(filepath, 'rb'))\n",
        "  return data"
      ],
      "metadata": {
        "id": "Iuatk3NA3KdN"
      },
      "execution_count": null,
      "outputs": []
    },
    {
      "cell_type": "code",
      "source": [
        "# data paths\n",
        "auburnDisorderedDataPath = \"drive/MyDrive/MSAI/Practicum/slid_database/auburn_disordered.pkl\"\n",
        "auburnNonDisorderedDataPath = \"drive/MyDrive/MSAI/Practicum/slid_database/auburn_non_disordered.pkl\"\n",
        "cincinnatiDisorderedDataPath = \"drive/MyDrive/MSAI/Practicum/slid_database/cincinnati_disordered.pkl\"\n",
        "cincinnatiNonDisorderedDataPath = \"drive/MyDrive/MSAI/Practicum/slid_database/cincinnati_non_disordered.pkl\""
      ],
      "metadata": {
        "id": "DU7adCz820BO"
      },
      "execution_count": null,
      "outputs": []
    },
    {
      "cell_type": "code",
      "source": [
        "# read disordered data\n",
        "auburn_disordered = loadPickleData(auburnDisorderedDataPath)\n",
        "print(\"auburn disordered data size \" , len(auburn_disordered))\n",
        "\n",
        "cincinnati_disordered = loadPickleData(cincinnatiDisorderedDataPath)\n",
        "print(\"cincinnati disordered data size \" , len(cincinnati_disordered))\n",
        "\n",
        "\n",
        "# read non disordered data\n",
        "auburn_non_disordered = loadPickleData(auburnNonDisorderedDataPath)\n",
        "print(\"auburn non-disordered data size \" , len(auburn_non_disordered))\n",
        "\n",
        "cincinnati_non_disordered = loadPickleData(cincinnatiNonDisorderedDataPath)\n",
        "print(\"cincinnati non-disordered data size \" , len(cincinnati_non_disordered))"
      ],
      "metadata": {
        "colab": {
          "base_uri": "https://localhost:8080/"
        },
        "id": "GXSHHavZ3XXr",
        "outputId": "d2df2eeb-85af-4632-d351-d0cf93e387d2"
      },
      "execution_count": null,
      "outputs": [
        {
          "output_type": "stream",
          "name": "stdout",
          "text": [
            "auburn disordered data size  2022\n",
            "cincinnati disordered data size  433\n",
            "auburn non-disordered data size  5938\n",
            "cincinnati non-disordered data size  2008\n"
          ]
        }
      ]
    },
    {
      "cell_type": "markdown",
      "source": [
        "# Extract Features using Wav2Vec"
      ],
      "metadata": {
        "id": "1DyA3YE38r1q"
      }
    },
    {
      "cell_type": "code",
      "source": [
        "# load model\n",
        "processor = Wav2Vec2Processor.from_pretrained(\n",
        "    \"facebook/wav2vec2-large-robust-ft-swbd-300h\")\n",
        "model = Wav2Vec2Model.from_pretrained(\n",
        "    \"facebook/wav2vec2-large-robust-ft-swbd-300h\").to(device)"
      ],
      "metadata": {
        "colab": {
          "base_uri": "https://localhost:8080/"
        },
        "id": "hJU9Hoaw8wlM",
        "outputId": "eee6533e-49e7-4542-93c3-4df702f72b49"
      },
      "execution_count": null,
      "outputs": [
        {
          "output_type": "stream",
          "name": "stderr",
          "text": [
            "Some weights of the model checkpoint at facebook/wav2vec2-large-robust-ft-swbd-300h were not used when initializing Wav2Vec2Model: ['lm_head.bias', 'lm_head.weight']\n",
            "- This IS expected if you are initializing Wav2Vec2Model from the checkpoint of a model trained on another task or with another architecture (e.g. initializing a BertForSequenceClassification model from a BertForPreTraining model).\n",
            "- This IS NOT expected if you are initializing Wav2Vec2Model from the checkpoint of a model that you expect to be exactly identical (initializing a BertForSequenceClassification model from a BertForSequenceClassification model).\n"
          ]
        }
      ]
    },
    {
      "cell_type": "code",
      "source": [
        "def extract_features(data):\n",
        "  output = []\n",
        "  for d in data:\n",
        "    # speech, rate = librosa.load(\"target1.wav\")\n",
        "    input = processor(d.squeeze(), sampling_rate=16000, return_tensors=\"pt\")\n",
        "\n",
        "    with torch.no_grad():\n",
        "        outputs = model(**input.to(device))\n",
        "\n",
        "    last_hidden_states = outputs.last_hidden_state.squeeze().mean(axis=0).cpu().numpy()\n",
        "    output.append(last_hidden_states)\n",
        "  return output"
      ],
      "metadata": {
        "id": "znTmsKNi9Yrw"
      },
      "execution_count": null,
      "outputs": []
    },
    {
      "cell_type": "code",
      "source": [
        "# audio file is decoded on the fly\n",
        "auburn_disordered_features = extract_features(auburn_disordered)"
      ],
      "metadata": {
        "id": "3tD2FotYis-n"
      },
      "execution_count": null,
      "outputs": []
    },
    {
      "cell_type": "code",
      "source": [
        "auburn_non_disordered_features = extract_features(auburn_non_disordered)"
      ],
      "metadata": {
        "id": "inSGjN_b-YB1"
      },
      "execution_count": null,
      "outputs": []
    },
    {
      "cell_type": "code",
      "source": [
        "cincinnati_disordered_features = extract_features(cincinnati_disordered)"
      ],
      "metadata": {
        "id": "BqE7wRyR-Zdz"
      },
      "execution_count": null,
      "outputs": []
    },
    {
      "cell_type": "code",
      "source": [
        "cincinnati_non_disordered_features = extract_features(cincinnati_non_disordered)"
      ],
      "metadata": {
        "id": "C52yNRhg-ats"
      },
      "execution_count": null,
      "outputs": []
    },
    {
      "cell_type": "markdown",
      "source": [
        "# Save the features"
      ],
      "metadata": {
        "id": "WgLgEKKg93VR"
      }
    },
    {
      "cell_type": "code",
      "source": [
        "def pickleData(filename, data):\n",
        "  with open(filename, 'wb') as f:\n",
        "    pickle.dump(data, f)\n",
        "    f.close()"
      ],
      "metadata": {
        "id": "vR1leTo3j1Rb"
      },
      "execution_count": null,
      "outputs": []
    },
    {
      "cell_type": "code",
      "source": [
        "pickleData(auburn_disordered_filename, auburn_disordered_features)\n",
        "pickleData(auburn_non_disordered_filename, auburn_non_disordered_features)\n",
        "pickleData(cincinnati_disordered_filename, cincinnati_disordered_features)\n",
        "pickleData(cincinnati_non_disordered_filename, cincinnati_non_disordered_features)"
      ],
      "metadata": {
        "id": "4VrgPX2v-6B5"
      },
      "execution_count": null,
      "outputs": []
    },
    {
      "cell_type": "markdown",
      "source": [
        "#Read pickled files and convert into dataframes"
      ],
      "metadata": {
        "id": "SKFjzSctL6dy"
      }
    },
    {
      "cell_type": "code",
      "source": [
        "def loadPickleData(filepath):\n",
        "  data = pickle.load(open(filepath, 'rb'))\n",
        "  return data"
      ],
      "metadata": {
        "id": "6tGcyaLYhG9H"
      },
      "execution_count": 7,
      "outputs": []
    },
    {
      "cell_type": "code",
      "source": [
        "auburn_disordered_features_pkl = loadPickleData(auburn_disordered_filename)\n",
        "auburn_non_disordered_features_pkl = loadPickleData(auburn_non_disordered_filename)\n",
        "cincinnati_disordered_features_pkl = loadPickleData(cincinnati_disordered_filename)\n",
        "cincinnati_non_disordered_features_pkl = loadPickleData(cincinnati_non_disordered_filename)"
      ],
      "metadata": {
        "id": "l5vhwrN0L6E0"
      },
      "execution_count": 14,
      "outputs": []
    },
    {
      "cell_type": "code",
      "source": [
        "combined_disordered_features = auburn_disordered_features_pkl + cincinnati_disordered_features_pkl\n",
        "combined_non_disordered_features = auburn_non_disordered_features_pkl + cincinnati_non_disordered_features_pkl"
      ],
      "metadata": {
        "id": "_mHysiSzhzsI"
      },
      "execution_count": 15,
      "outputs": []
    },
    {
      "cell_type": "code",
      "source": [
        "len(combined_non_disordered_features)"
      ],
      "metadata": {
        "colab": {
          "base_uri": "https://localhost:8080/"
        },
        "id": "TMByqvpXiEn3",
        "outputId": "da57941a-e744-4207-dfc9-9eecba9fdfa0"
      },
      "execution_count": 16,
      "outputs": [
        {
          "output_type": "execute_result",
          "data": {
            "text/plain": [
              "7946"
            ]
          },
          "metadata": {},
          "execution_count": 16
        }
      ]
    },
    {
      "cell_type": "code",
      "source": [
        "len(combined_disordered_features)"
      ],
      "metadata": {
        "colab": {
          "base_uri": "https://localhost:8080/"
        },
        "id": "EhAOgSpDiA3f",
        "outputId": "cd705155-993d-430c-b929-ceb2c333d238"
      },
      "execution_count": 17,
      "outputs": [
        {
          "output_type": "execute_result",
          "data": {
            "text/plain": [
              "2455"
            ]
          },
          "metadata": {},
          "execution_count": 17
        }
      ]
    },
    {
      "cell_type": "code",
      "source": [
        "df_non_disordered_features = pd.DataFrame(combined_non_disordered_features)\n",
        "df_non_disordered_features['label'] = labels[0]\n",
        "df_non_disordered_features.head()"
      ],
      "metadata": {
        "id": "TWZbxydFpj4_",
        "colab": {
          "base_uri": "https://localhost:8080/",
          "height": 300
        },
        "outputId": "88bfdaba-b431-4fc7-b9d8-8810d13d098c"
      },
      "execution_count": 18,
      "outputs": [
        {
          "output_type": "execute_result",
          "data": {
            "text/plain": [
              "          0         1         2         3         4         5         6  \\\n",
              "0  0.039734  0.048435  0.067487 -0.010172  0.009827 -0.077144  0.399569   \n",
              "1  0.044635  0.046752  0.060130  0.002178 -0.008075 -0.068763  0.522563   \n",
              "2  0.043567  0.053394  0.069707  0.001846 -0.024712 -0.024587  0.212642   \n",
              "3  0.042739  0.051288  0.076073 -0.014046 -0.015727 -0.063098  0.153678   \n",
              "4  0.043826  0.055863  0.054430 -0.005933 -0.000455 -0.049939  0.301171   \n",
              "\n",
              "          7         8         9  ...      1015      1016      1017      1018  \\\n",
              "0  0.029180  0.019079 -0.034691  ...  0.036644  0.275513  0.116643  0.036950   \n",
              "1 -0.023723 -0.008114 -0.039838  ...  0.065995  0.097780  0.062342  0.038205   \n",
              "2 -0.020668  0.054299 -0.039508  ...  0.042750  0.072257  0.089250  0.066947   \n",
              "3  0.012405  0.095684 -0.058166  ...  0.072373  0.177493  0.071616  0.081802   \n",
              "4 -0.037318  0.132312 -0.038711  ...  0.069045  0.067252  0.036167  0.126889   \n",
              "\n",
              "       1019      1020      1021      1022      1023  label  \n",
              "0 -0.932953  0.055748 -0.026000 -0.050920 -0.009131      0  \n",
              "1 -0.623080 -0.277188 -0.026682 -0.065354 -0.026255      0  \n",
              "2 -0.885036 -0.162534 -0.029763 -0.034787 -0.007640      0  \n",
              "3 -0.851760 -0.085139 -0.037107 -0.039172 -0.016156      0  \n",
              "4 -0.781480  0.007364 -0.038496 -0.064791 -0.006959      0  \n",
              "\n",
              "[5 rows x 1025 columns]"
            ],
            "text/html": [
              "\n",
              "  <div id=\"df-474e0bdd-fd2c-4a42-8b06-d5da3480a360\">\n",
              "    <div class=\"colab-df-container\">\n",
              "      <div>\n",
              "<style scoped>\n",
              "    .dataframe tbody tr th:only-of-type {\n",
              "        vertical-align: middle;\n",
              "    }\n",
              "\n",
              "    .dataframe tbody tr th {\n",
              "        vertical-align: top;\n",
              "    }\n",
              "\n",
              "    .dataframe thead th {\n",
              "        text-align: right;\n",
              "    }\n",
              "</style>\n",
              "<table border=\"1\" class=\"dataframe\">\n",
              "  <thead>\n",
              "    <tr style=\"text-align: right;\">\n",
              "      <th></th>\n",
              "      <th>0</th>\n",
              "      <th>1</th>\n",
              "      <th>2</th>\n",
              "      <th>3</th>\n",
              "      <th>4</th>\n",
              "      <th>5</th>\n",
              "      <th>6</th>\n",
              "      <th>7</th>\n",
              "      <th>8</th>\n",
              "      <th>9</th>\n",
              "      <th>...</th>\n",
              "      <th>1015</th>\n",
              "      <th>1016</th>\n",
              "      <th>1017</th>\n",
              "      <th>1018</th>\n",
              "      <th>1019</th>\n",
              "      <th>1020</th>\n",
              "      <th>1021</th>\n",
              "      <th>1022</th>\n",
              "      <th>1023</th>\n",
              "      <th>label</th>\n",
              "    </tr>\n",
              "  </thead>\n",
              "  <tbody>\n",
              "    <tr>\n",
              "      <th>0</th>\n",
              "      <td>0.039734</td>\n",
              "      <td>0.048435</td>\n",
              "      <td>0.067487</td>\n",
              "      <td>-0.010172</td>\n",
              "      <td>0.009827</td>\n",
              "      <td>-0.077144</td>\n",
              "      <td>0.399569</td>\n",
              "      <td>0.029180</td>\n",
              "      <td>0.019079</td>\n",
              "      <td>-0.034691</td>\n",
              "      <td>...</td>\n",
              "      <td>0.036644</td>\n",
              "      <td>0.275513</td>\n",
              "      <td>0.116643</td>\n",
              "      <td>0.036950</td>\n",
              "      <td>-0.932953</td>\n",
              "      <td>0.055748</td>\n",
              "      <td>-0.026000</td>\n",
              "      <td>-0.050920</td>\n",
              "      <td>-0.009131</td>\n",
              "      <td>0</td>\n",
              "    </tr>\n",
              "    <tr>\n",
              "      <th>1</th>\n",
              "      <td>0.044635</td>\n",
              "      <td>0.046752</td>\n",
              "      <td>0.060130</td>\n",
              "      <td>0.002178</td>\n",
              "      <td>-0.008075</td>\n",
              "      <td>-0.068763</td>\n",
              "      <td>0.522563</td>\n",
              "      <td>-0.023723</td>\n",
              "      <td>-0.008114</td>\n",
              "      <td>-0.039838</td>\n",
              "      <td>...</td>\n",
              "      <td>0.065995</td>\n",
              "      <td>0.097780</td>\n",
              "      <td>0.062342</td>\n",
              "      <td>0.038205</td>\n",
              "      <td>-0.623080</td>\n",
              "      <td>-0.277188</td>\n",
              "      <td>-0.026682</td>\n",
              "      <td>-0.065354</td>\n",
              "      <td>-0.026255</td>\n",
              "      <td>0</td>\n",
              "    </tr>\n",
              "    <tr>\n",
              "      <th>2</th>\n",
              "      <td>0.043567</td>\n",
              "      <td>0.053394</td>\n",
              "      <td>0.069707</td>\n",
              "      <td>0.001846</td>\n",
              "      <td>-0.024712</td>\n",
              "      <td>-0.024587</td>\n",
              "      <td>0.212642</td>\n",
              "      <td>-0.020668</td>\n",
              "      <td>0.054299</td>\n",
              "      <td>-0.039508</td>\n",
              "      <td>...</td>\n",
              "      <td>0.042750</td>\n",
              "      <td>0.072257</td>\n",
              "      <td>0.089250</td>\n",
              "      <td>0.066947</td>\n",
              "      <td>-0.885036</td>\n",
              "      <td>-0.162534</td>\n",
              "      <td>-0.029763</td>\n",
              "      <td>-0.034787</td>\n",
              "      <td>-0.007640</td>\n",
              "      <td>0</td>\n",
              "    </tr>\n",
              "    <tr>\n",
              "      <th>3</th>\n",
              "      <td>0.042739</td>\n",
              "      <td>0.051288</td>\n",
              "      <td>0.076073</td>\n",
              "      <td>-0.014046</td>\n",
              "      <td>-0.015727</td>\n",
              "      <td>-0.063098</td>\n",
              "      <td>0.153678</td>\n",
              "      <td>0.012405</td>\n",
              "      <td>0.095684</td>\n",
              "      <td>-0.058166</td>\n",
              "      <td>...</td>\n",
              "      <td>0.072373</td>\n",
              "      <td>0.177493</td>\n",
              "      <td>0.071616</td>\n",
              "      <td>0.081802</td>\n",
              "      <td>-0.851760</td>\n",
              "      <td>-0.085139</td>\n",
              "      <td>-0.037107</td>\n",
              "      <td>-0.039172</td>\n",
              "      <td>-0.016156</td>\n",
              "      <td>0</td>\n",
              "    </tr>\n",
              "    <tr>\n",
              "      <th>4</th>\n",
              "      <td>0.043826</td>\n",
              "      <td>0.055863</td>\n",
              "      <td>0.054430</td>\n",
              "      <td>-0.005933</td>\n",
              "      <td>-0.000455</td>\n",
              "      <td>-0.049939</td>\n",
              "      <td>0.301171</td>\n",
              "      <td>-0.037318</td>\n",
              "      <td>0.132312</td>\n",
              "      <td>-0.038711</td>\n",
              "      <td>...</td>\n",
              "      <td>0.069045</td>\n",
              "      <td>0.067252</td>\n",
              "      <td>0.036167</td>\n",
              "      <td>0.126889</td>\n",
              "      <td>-0.781480</td>\n",
              "      <td>0.007364</td>\n",
              "      <td>-0.038496</td>\n",
              "      <td>-0.064791</td>\n",
              "      <td>-0.006959</td>\n",
              "      <td>0</td>\n",
              "    </tr>\n",
              "  </tbody>\n",
              "</table>\n",
              "<p>5 rows × 1025 columns</p>\n",
              "</div>\n",
              "      <button class=\"colab-df-convert\" onclick=\"convertToInteractive('df-474e0bdd-fd2c-4a42-8b06-d5da3480a360')\"\n",
              "              title=\"Convert this dataframe to an interactive table.\"\n",
              "              style=\"display:none;\">\n",
              "        \n",
              "  <svg xmlns=\"http://www.w3.org/2000/svg\" height=\"24px\"viewBox=\"0 0 24 24\"\n",
              "       width=\"24px\">\n",
              "    <path d=\"M0 0h24v24H0V0z\" fill=\"none\"/>\n",
              "    <path d=\"M18.56 5.44l.94 2.06.94-2.06 2.06-.94-2.06-.94-.94-2.06-.94 2.06-2.06.94zm-11 1L8.5 8.5l.94-2.06 2.06-.94-2.06-.94L8.5 2.5l-.94 2.06-2.06.94zm10 10l.94 2.06.94-2.06 2.06-.94-2.06-.94-.94-2.06-.94 2.06-2.06.94z\"/><path d=\"M17.41 7.96l-1.37-1.37c-.4-.4-.92-.59-1.43-.59-.52 0-1.04.2-1.43.59L10.3 9.45l-7.72 7.72c-.78.78-.78 2.05 0 2.83L4 21.41c.39.39.9.59 1.41.59.51 0 1.02-.2 1.41-.59l7.78-7.78 2.81-2.81c.8-.78.8-2.07 0-2.86zM5.41 20L4 18.59l7.72-7.72 1.47 1.35L5.41 20z\"/>\n",
              "  </svg>\n",
              "      </button>\n",
              "      \n",
              "  <style>\n",
              "    .colab-df-container {\n",
              "      display:flex;\n",
              "      flex-wrap:wrap;\n",
              "      gap: 12px;\n",
              "    }\n",
              "\n",
              "    .colab-df-convert {\n",
              "      background-color: #E8F0FE;\n",
              "      border: none;\n",
              "      border-radius: 50%;\n",
              "      cursor: pointer;\n",
              "      display: none;\n",
              "      fill: #1967D2;\n",
              "      height: 32px;\n",
              "      padding: 0 0 0 0;\n",
              "      width: 32px;\n",
              "    }\n",
              "\n",
              "    .colab-df-convert:hover {\n",
              "      background-color: #E2EBFA;\n",
              "      box-shadow: 0px 1px 2px rgba(60, 64, 67, 0.3), 0px 1px 3px 1px rgba(60, 64, 67, 0.15);\n",
              "      fill: #174EA6;\n",
              "    }\n",
              "\n",
              "    [theme=dark] .colab-df-convert {\n",
              "      background-color: #3B4455;\n",
              "      fill: #D2E3FC;\n",
              "    }\n",
              "\n",
              "    [theme=dark] .colab-df-convert:hover {\n",
              "      background-color: #434B5C;\n",
              "      box-shadow: 0px 1px 3px 1px rgba(0, 0, 0, 0.15);\n",
              "      filter: drop-shadow(0px 1px 2px rgba(0, 0, 0, 0.3));\n",
              "      fill: #FFFFFF;\n",
              "    }\n",
              "  </style>\n",
              "\n",
              "      <script>\n",
              "        const buttonEl =\n",
              "          document.querySelector('#df-474e0bdd-fd2c-4a42-8b06-d5da3480a360 button.colab-df-convert');\n",
              "        buttonEl.style.display =\n",
              "          google.colab.kernel.accessAllowed ? 'block' : 'none';\n",
              "\n",
              "        async function convertToInteractive(key) {\n",
              "          const element = document.querySelector('#df-474e0bdd-fd2c-4a42-8b06-d5da3480a360');\n",
              "          const dataTable =\n",
              "            await google.colab.kernel.invokeFunction('convertToInteractive',\n",
              "                                                     [key], {});\n",
              "          if (!dataTable) return;\n",
              "\n",
              "          const docLinkHtml = 'Like what you see? Visit the ' +\n",
              "            '<a target=\"_blank\" href=https://colab.research.google.com/notebooks/data_table.ipynb>data table notebook</a>'\n",
              "            + ' to learn more about interactive tables.';\n",
              "          element.innerHTML = '';\n",
              "          dataTable['output_type'] = 'display_data';\n",
              "          await google.colab.output.renderOutput(dataTable, element);\n",
              "          const docLink = document.createElement('div');\n",
              "          docLink.innerHTML = docLinkHtml;\n",
              "          element.appendChild(docLink);\n",
              "        }\n",
              "      </script>\n",
              "    </div>\n",
              "  </div>\n",
              "  "
            ]
          },
          "metadata": {},
          "execution_count": 18
        }
      ]
    },
    {
      "cell_type": "code",
      "source": [
        "df_disordered_features = pd.DataFrame(combined_disordered_features)\n",
        "df_disordered_features['label'] = labels[1]\n",
        "df_disordered_features.head()"
      ],
      "metadata": {
        "colab": {
          "base_uri": "https://localhost:8080/",
          "height": 300
        },
        "id": "ddc2lD1Et-lC",
        "outputId": "f135acbb-b8c5-436b-a306-76debb85dbb2"
      },
      "execution_count": 19,
      "outputs": [
        {
          "output_type": "execute_result",
          "data": {
            "text/plain": [
              "          0         1         2         3         4         5         6  \\\n",
              "0  0.037373  0.056709  0.072487 -0.023547  0.007546 -0.055679  0.309755   \n",
              "1  0.038948  0.071314  0.086376 -0.042646  0.005977 -0.109305  0.131993   \n",
              "2  0.038204  0.070645  0.086711 -0.027478 -0.008479 -0.108785  0.465069   \n",
              "3  0.037181  0.064960  0.079436 -0.020334  0.015927 -0.030770  0.512674   \n",
              "4  0.036092  0.062733  0.079132 -0.022899  0.013834 -0.092958  0.571351   \n",
              "\n",
              "          7         8         9  ...      1015      1016      1017      1018  \\\n",
              "0  0.012766  0.100616 -0.053669  ...  0.042172  0.167338  0.114146 -0.059775   \n",
              "1  0.000469  0.003212 -0.054235  ...  0.091310  0.047840  0.084688  0.037628   \n",
              "2 -0.009751  0.012133 -0.062568  ...  0.092904  0.154206  0.082252  0.033229   \n",
              "3  0.014065  0.097534 -0.004835  ...  0.055716  0.272712  0.098889 -0.023326   \n",
              "4  0.029331  0.156840 -0.060186  ...  0.075591  0.223992  0.097246  0.018117   \n",
              "\n",
              "       1019      1020      1021      1022      1023  label  \n",
              "0 -0.702920  0.027936 -0.005987 -0.054552  0.013498      1  \n",
              "1 -0.610910  0.018558 -0.011674 -0.034715 -0.009870      1  \n",
              "2 -0.531971  0.034827  0.002519 -0.045667  0.000654      1  \n",
              "3 -0.486841  0.097826 -0.019308 -0.033877  0.004170      1  \n",
              "4 -0.539482  0.018661 -0.007224 -0.060648 -0.001386      1  \n",
              "\n",
              "[5 rows x 1025 columns]"
            ],
            "text/html": [
              "\n",
              "  <div id=\"df-db034423-9141-4e20-aec1-a2c4d508f3c6\">\n",
              "    <div class=\"colab-df-container\">\n",
              "      <div>\n",
              "<style scoped>\n",
              "    .dataframe tbody tr th:only-of-type {\n",
              "        vertical-align: middle;\n",
              "    }\n",
              "\n",
              "    .dataframe tbody tr th {\n",
              "        vertical-align: top;\n",
              "    }\n",
              "\n",
              "    .dataframe thead th {\n",
              "        text-align: right;\n",
              "    }\n",
              "</style>\n",
              "<table border=\"1\" class=\"dataframe\">\n",
              "  <thead>\n",
              "    <tr style=\"text-align: right;\">\n",
              "      <th></th>\n",
              "      <th>0</th>\n",
              "      <th>1</th>\n",
              "      <th>2</th>\n",
              "      <th>3</th>\n",
              "      <th>4</th>\n",
              "      <th>5</th>\n",
              "      <th>6</th>\n",
              "      <th>7</th>\n",
              "      <th>8</th>\n",
              "      <th>9</th>\n",
              "      <th>...</th>\n",
              "      <th>1015</th>\n",
              "      <th>1016</th>\n",
              "      <th>1017</th>\n",
              "      <th>1018</th>\n",
              "      <th>1019</th>\n",
              "      <th>1020</th>\n",
              "      <th>1021</th>\n",
              "      <th>1022</th>\n",
              "      <th>1023</th>\n",
              "      <th>label</th>\n",
              "    </tr>\n",
              "  </thead>\n",
              "  <tbody>\n",
              "    <tr>\n",
              "      <th>0</th>\n",
              "      <td>0.037373</td>\n",
              "      <td>0.056709</td>\n",
              "      <td>0.072487</td>\n",
              "      <td>-0.023547</td>\n",
              "      <td>0.007546</td>\n",
              "      <td>-0.055679</td>\n",
              "      <td>0.309755</td>\n",
              "      <td>0.012766</td>\n",
              "      <td>0.100616</td>\n",
              "      <td>-0.053669</td>\n",
              "      <td>...</td>\n",
              "      <td>0.042172</td>\n",
              "      <td>0.167338</td>\n",
              "      <td>0.114146</td>\n",
              "      <td>-0.059775</td>\n",
              "      <td>-0.702920</td>\n",
              "      <td>0.027936</td>\n",
              "      <td>-0.005987</td>\n",
              "      <td>-0.054552</td>\n",
              "      <td>0.013498</td>\n",
              "      <td>1</td>\n",
              "    </tr>\n",
              "    <tr>\n",
              "      <th>1</th>\n",
              "      <td>0.038948</td>\n",
              "      <td>0.071314</td>\n",
              "      <td>0.086376</td>\n",
              "      <td>-0.042646</td>\n",
              "      <td>0.005977</td>\n",
              "      <td>-0.109305</td>\n",
              "      <td>0.131993</td>\n",
              "      <td>0.000469</td>\n",
              "      <td>0.003212</td>\n",
              "      <td>-0.054235</td>\n",
              "      <td>...</td>\n",
              "      <td>0.091310</td>\n",
              "      <td>0.047840</td>\n",
              "      <td>0.084688</td>\n",
              "      <td>0.037628</td>\n",
              "      <td>-0.610910</td>\n",
              "      <td>0.018558</td>\n",
              "      <td>-0.011674</td>\n",
              "      <td>-0.034715</td>\n",
              "      <td>-0.009870</td>\n",
              "      <td>1</td>\n",
              "    </tr>\n",
              "    <tr>\n",
              "      <th>2</th>\n",
              "      <td>0.038204</td>\n",
              "      <td>0.070645</td>\n",
              "      <td>0.086711</td>\n",
              "      <td>-0.027478</td>\n",
              "      <td>-0.008479</td>\n",
              "      <td>-0.108785</td>\n",
              "      <td>0.465069</td>\n",
              "      <td>-0.009751</td>\n",
              "      <td>0.012133</td>\n",
              "      <td>-0.062568</td>\n",
              "      <td>...</td>\n",
              "      <td>0.092904</td>\n",
              "      <td>0.154206</td>\n",
              "      <td>0.082252</td>\n",
              "      <td>0.033229</td>\n",
              "      <td>-0.531971</td>\n",
              "      <td>0.034827</td>\n",
              "      <td>0.002519</td>\n",
              "      <td>-0.045667</td>\n",
              "      <td>0.000654</td>\n",
              "      <td>1</td>\n",
              "    </tr>\n",
              "    <tr>\n",
              "      <th>3</th>\n",
              "      <td>0.037181</td>\n",
              "      <td>0.064960</td>\n",
              "      <td>0.079436</td>\n",
              "      <td>-0.020334</td>\n",
              "      <td>0.015927</td>\n",
              "      <td>-0.030770</td>\n",
              "      <td>0.512674</td>\n",
              "      <td>0.014065</td>\n",
              "      <td>0.097534</td>\n",
              "      <td>-0.004835</td>\n",
              "      <td>...</td>\n",
              "      <td>0.055716</td>\n",
              "      <td>0.272712</td>\n",
              "      <td>0.098889</td>\n",
              "      <td>-0.023326</td>\n",
              "      <td>-0.486841</td>\n",
              "      <td>0.097826</td>\n",
              "      <td>-0.019308</td>\n",
              "      <td>-0.033877</td>\n",
              "      <td>0.004170</td>\n",
              "      <td>1</td>\n",
              "    </tr>\n",
              "    <tr>\n",
              "      <th>4</th>\n",
              "      <td>0.036092</td>\n",
              "      <td>0.062733</td>\n",
              "      <td>0.079132</td>\n",
              "      <td>-0.022899</td>\n",
              "      <td>0.013834</td>\n",
              "      <td>-0.092958</td>\n",
              "      <td>0.571351</td>\n",
              "      <td>0.029331</td>\n",
              "      <td>0.156840</td>\n",
              "      <td>-0.060186</td>\n",
              "      <td>...</td>\n",
              "      <td>0.075591</td>\n",
              "      <td>0.223992</td>\n",
              "      <td>0.097246</td>\n",
              "      <td>0.018117</td>\n",
              "      <td>-0.539482</td>\n",
              "      <td>0.018661</td>\n",
              "      <td>-0.007224</td>\n",
              "      <td>-0.060648</td>\n",
              "      <td>-0.001386</td>\n",
              "      <td>1</td>\n",
              "    </tr>\n",
              "  </tbody>\n",
              "</table>\n",
              "<p>5 rows × 1025 columns</p>\n",
              "</div>\n",
              "      <button class=\"colab-df-convert\" onclick=\"convertToInteractive('df-db034423-9141-4e20-aec1-a2c4d508f3c6')\"\n",
              "              title=\"Convert this dataframe to an interactive table.\"\n",
              "              style=\"display:none;\">\n",
              "        \n",
              "  <svg xmlns=\"http://www.w3.org/2000/svg\" height=\"24px\"viewBox=\"0 0 24 24\"\n",
              "       width=\"24px\">\n",
              "    <path d=\"M0 0h24v24H0V0z\" fill=\"none\"/>\n",
              "    <path d=\"M18.56 5.44l.94 2.06.94-2.06 2.06-.94-2.06-.94-.94-2.06-.94 2.06-2.06.94zm-11 1L8.5 8.5l.94-2.06 2.06-.94-2.06-.94L8.5 2.5l-.94 2.06-2.06.94zm10 10l.94 2.06.94-2.06 2.06-.94-2.06-.94-.94-2.06-.94 2.06-2.06.94z\"/><path d=\"M17.41 7.96l-1.37-1.37c-.4-.4-.92-.59-1.43-.59-.52 0-1.04.2-1.43.59L10.3 9.45l-7.72 7.72c-.78.78-.78 2.05 0 2.83L4 21.41c.39.39.9.59 1.41.59.51 0 1.02-.2 1.41-.59l7.78-7.78 2.81-2.81c.8-.78.8-2.07 0-2.86zM5.41 20L4 18.59l7.72-7.72 1.47 1.35L5.41 20z\"/>\n",
              "  </svg>\n",
              "      </button>\n",
              "      \n",
              "  <style>\n",
              "    .colab-df-container {\n",
              "      display:flex;\n",
              "      flex-wrap:wrap;\n",
              "      gap: 12px;\n",
              "    }\n",
              "\n",
              "    .colab-df-convert {\n",
              "      background-color: #E8F0FE;\n",
              "      border: none;\n",
              "      border-radius: 50%;\n",
              "      cursor: pointer;\n",
              "      display: none;\n",
              "      fill: #1967D2;\n",
              "      height: 32px;\n",
              "      padding: 0 0 0 0;\n",
              "      width: 32px;\n",
              "    }\n",
              "\n",
              "    .colab-df-convert:hover {\n",
              "      background-color: #E2EBFA;\n",
              "      box-shadow: 0px 1px 2px rgba(60, 64, 67, 0.3), 0px 1px 3px 1px rgba(60, 64, 67, 0.15);\n",
              "      fill: #174EA6;\n",
              "    }\n",
              "\n",
              "    [theme=dark] .colab-df-convert {\n",
              "      background-color: #3B4455;\n",
              "      fill: #D2E3FC;\n",
              "    }\n",
              "\n",
              "    [theme=dark] .colab-df-convert:hover {\n",
              "      background-color: #434B5C;\n",
              "      box-shadow: 0px 1px 3px 1px rgba(0, 0, 0, 0.15);\n",
              "      filter: drop-shadow(0px 1px 2px rgba(0, 0, 0, 0.3));\n",
              "      fill: #FFFFFF;\n",
              "    }\n",
              "  </style>\n",
              "\n",
              "      <script>\n",
              "        const buttonEl =\n",
              "          document.querySelector('#df-db034423-9141-4e20-aec1-a2c4d508f3c6 button.colab-df-convert');\n",
              "        buttonEl.style.display =\n",
              "          google.colab.kernel.accessAllowed ? 'block' : 'none';\n",
              "\n",
              "        async function convertToInteractive(key) {\n",
              "          const element = document.querySelector('#df-db034423-9141-4e20-aec1-a2c4d508f3c6');\n",
              "          const dataTable =\n",
              "            await google.colab.kernel.invokeFunction('convertToInteractive',\n",
              "                                                     [key], {});\n",
              "          if (!dataTable) return;\n",
              "\n",
              "          const docLinkHtml = 'Like what you see? Visit the ' +\n",
              "            '<a target=\"_blank\" href=https://colab.research.google.com/notebooks/data_table.ipynb>data table notebook</a>'\n",
              "            + ' to learn more about interactive tables.';\n",
              "          element.innerHTML = '';\n",
              "          dataTable['output_type'] = 'display_data';\n",
              "          await google.colab.output.renderOutput(dataTable, element);\n",
              "          const docLink = document.createElement('div');\n",
              "          docLink.innerHTML = docLinkHtml;\n",
              "          element.appendChild(docLink);\n",
              "        }\n",
              "      </script>\n",
              "    </div>\n",
              "  </div>\n",
              "  "
            ]
          },
          "metadata": {},
          "execution_count": 19
        }
      ]
    },
    {
      "cell_type": "code",
      "source": [
        "frames = [df_non_disordered_features, df_disordered_features]\n",
        "df_combined = pd.concat(frames)"
      ],
      "metadata": {
        "id": "sx7fAd7juM-h"
      },
      "execution_count": 20,
      "outputs": []
    },
    {
      "cell_type": "markdown",
      "source": [
        "# test-train split for finetuning"
      ],
      "metadata": {
        "id": "26RqM7rqumwV"
      }
    },
    {
      "cell_type": "code",
      "source": [
        "# set input and target variable\n",
        "X = df_combined.loc[:, df_combined.columns != 'label']\n",
        "y = df_combined['label']\n",
        "\n",
        "# train test split\n",
        "X_train, X_test, y_train, y_test = train_test_split(X, y, test_size=0.2, random_state=42)\n",
        "print(\"\\ntraining dataset size\", len(X_train))\n",
        "print(\"\\ntest dataset size\", len(X_test))"
      ],
      "metadata": {
        "colab": {
          "base_uri": "https://localhost:8080/"
        },
        "id": "n2YhCizPuqfI",
        "outputId": "7f941c04-4358-4b3e-9b9f-2683b8b02fcc"
      },
      "execution_count": 21,
      "outputs": [
        {
          "output_type": "stream",
          "name": "stdout",
          "text": [
            "\n",
            "training dataset size 8320\n",
            "\n",
            "test dataset size 2081\n"
          ]
        }
      ]
    },
    {
      "cell_type": "markdown",
      "source": [
        "# Use Wav2Vec features for classification"
      ],
      "metadata": {
        "id": "AF4s7kT354cw"
      }
    },
    {
      "cell_type": "markdown",
      "source": [
        "## MLP"
      ],
      "metadata": {
        "id": "IdpE83jdCv2v"
      }
    },
    {
      "cell_type": "code",
      "source": [
        "# define classifier\n",
        "mlp = MLPClassifier()\n",
        "\n",
        "# train classifier\n",
        "mlp.fit(X_train, y_train)"
      ],
      "metadata": {
        "colab": {
          "base_uri": "https://localhost:8080/",
          "height": 130
        },
        "id": "VMHM_A5BBtGf",
        "outputId": "e3b83210-96b2-4493-da53-f91ccdce452c"
      },
      "execution_count": null,
      "outputs": [
        {
          "output_type": "stream",
          "name": "stderr",
          "text": [
            "/usr/local/lib/python3.10/dist-packages/sklearn/neural_network/_multilayer_perceptron.py:686: ConvergenceWarning: Stochastic Optimizer: Maximum iterations (200) reached and the optimization hasn't converged yet.\n",
            "  warnings.warn(\n"
          ]
        },
        {
          "output_type": "execute_result",
          "data": {
            "text/plain": [
              "MLPClassifier()"
            ],
            "text/html": [
              "<style>#sk-container-id-4 {color: black;background-color: white;}#sk-container-id-4 pre{padding: 0;}#sk-container-id-4 div.sk-toggleable {background-color: white;}#sk-container-id-4 label.sk-toggleable__label {cursor: pointer;display: block;width: 100%;margin-bottom: 0;padding: 0.3em;box-sizing: border-box;text-align: center;}#sk-container-id-4 label.sk-toggleable__label-arrow:before {content: \"▸\";float: left;margin-right: 0.25em;color: #696969;}#sk-container-id-4 label.sk-toggleable__label-arrow:hover:before {color: black;}#sk-container-id-4 div.sk-estimator:hover label.sk-toggleable__label-arrow:before {color: black;}#sk-container-id-4 div.sk-toggleable__content {max-height: 0;max-width: 0;overflow: hidden;text-align: left;background-color: #f0f8ff;}#sk-container-id-4 div.sk-toggleable__content pre {margin: 0.2em;color: black;border-radius: 0.25em;background-color: #f0f8ff;}#sk-container-id-4 input.sk-toggleable__control:checked~div.sk-toggleable__content {max-height: 200px;max-width: 100%;overflow: auto;}#sk-container-id-4 input.sk-toggleable__control:checked~label.sk-toggleable__label-arrow:before {content: \"▾\";}#sk-container-id-4 div.sk-estimator input.sk-toggleable__control:checked~label.sk-toggleable__label {background-color: #d4ebff;}#sk-container-id-4 div.sk-label input.sk-toggleable__control:checked~label.sk-toggleable__label {background-color: #d4ebff;}#sk-container-id-4 input.sk-hidden--visually {border: 0;clip: rect(1px 1px 1px 1px);clip: rect(1px, 1px, 1px, 1px);height: 1px;margin: -1px;overflow: hidden;padding: 0;position: absolute;width: 1px;}#sk-container-id-4 div.sk-estimator {font-family: monospace;background-color: #f0f8ff;border: 1px dotted black;border-radius: 0.25em;box-sizing: border-box;margin-bottom: 0.5em;}#sk-container-id-4 div.sk-estimator:hover {background-color: #d4ebff;}#sk-container-id-4 div.sk-parallel-item::after {content: \"\";width: 100%;border-bottom: 1px solid gray;flex-grow: 1;}#sk-container-id-4 div.sk-label:hover label.sk-toggleable__label {background-color: #d4ebff;}#sk-container-id-4 div.sk-serial::before {content: \"\";position: absolute;border-left: 1px solid gray;box-sizing: border-box;top: 0;bottom: 0;left: 50%;z-index: 0;}#sk-container-id-4 div.sk-serial {display: flex;flex-direction: column;align-items: center;background-color: white;padding-right: 0.2em;padding-left: 0.2em;position: relative;}#sk-container-id-4 div.sk-item {position: relative;z-index: 1;}#sk-container-id-4 div.sk-parallel {display: flex;align-items: stretch;justify-content: center;background-color: white;position: relative;}#sk-container-id-4 div.sk-item::before, #sk-container-id-4 div.sk-parallel-item::before {content: \"\";position: absolute;border-left: 1px solid gray;box-sizing: border-box;top: 0;bottom: 0;left: 50%;z-index: -1;}#sk-container-id-4 div.sk-parallel-item {display: flex;flex-direction: column;z-index: 1;position: relative;background-color: white;}#sk-container-id-4 div.sk-parallel-item:first-child::after {align-self: flex-end;width: 50%;}#sk-container-id-4 div.sk-parallel-item:last-child::after {align-self: flex-start;width: 50%;}#sk-container-id-4 div.sk-parallel-item:only-child::after {width: 0;}#sk-container-id-4 div.sk-dashed-wrapped {border: 1px dashed gray;margin: 0 0.4em 0.5em 0.4em;box-sizing: border-box;padding-bottom: 0.4em;background-color: white;}#sk-container-id-4 div.sk-label label {font-family: monospace;font-weight: bold;display: inline-block;line-height: 1.2em;}#sk-container-id-4 div.sk-label-container {text-align: center;}#sk-container-id-4 div.sk-container {/* jupyter's `normalize.less` sets `[hidden] { display: none; }` but bootstrap.min.css set `[hidden] { display: none !important; }` so we also need the `!important` here to be able to override the default hidden behavior on the sphinx rendered scikit-learn.org. See: https://github.com/scikit-learn/scikit-learn/issues/21755 */display: inline-block !important;position: relative;}#sk-container-id-4 div.sk-text-repr-fallback {display: none;}</style><div id=\"sk-container-id-4\" class=\"sk-top-container\"><div class=\"sk-text-repr-fallback\"><pre>MLPClassifier()</pre><b>In a Jupyter environment, please rerun this cell to show the HTML representation or trust the notebook. <br />On GitHub, the HTML representation is unable to render, please try loading this page with nbviewer.org.</b></div><div class=\"sk-container\" hidden><div class=\"sk-item\"><div class=\"sk-estimator sk-toggleable\"><input class=\"sk-toggleable__control sk-hidden--visually\" id=\"sk-estimator-id-4\" type=\"checkbox\" checked><label for=\"sk-estimator-id-4\" class=\"sk-toggleable__label sk-toggleable__label-arrow\">MLPClassifier</label><div class=\"sk-toggleable__content\"><pre>MLPClassifier()</pre></div></div></div></div></div>"
            ]
          },
          "metadata": {},
          "execution_count": 34
        }
      ]
    },
    {
      "cell_type": "code",
      "source": [
        "y_pred_mlp = mlp.predict(X_test)"
      ],
      "metadata": {
        "id": "7RDGkqJYB0a9"
      },
      "execution_count": null,
      "outputs": []
    },
    {
      "cell_type": "code",
      "source": [
        "print(classification_report(y_test, y_pred_mlp))"
      ],
      "metadata": {
        "colab": {
          "base_uri": "https://localhost:8080/"
        },
        "id": "rueX-KkSB46W",
        "outputId": "3e9e92e4-e58a-4888-f0ba-411991b6647e"
      },
      "execution_count": null,
      "outputs": [
        {
          "output_type": "stream",
          "name": "stdout",
          "text": [
            "              precision    recall  f1-score   support\n",
            "\n",
            "           0       0.86      0.93      0.89      1578\n",
            "           1       0.70      0.52      0.60       503\n",
            "\n",
            "    accuracy                           0.83      2081\n",
            "   macro avg       0.78      0.73      0.75      2081\n",
            "weighted avg       0.82      0.83      0.82      2081\n",
            "\n"
          ]
        }
      ]
    },
    {
      "cell_type": "code",
      "source": [
        "cm = confusion_matrix(y_test, y_pred_mlp, labels=mlp.classes_)\n",
        "disp = ConfusionMatrixDisplay(confusion_matrix=cm, display_labels=mlp.classes_)\n",
        "disp.plot()"
      ],
      "metadata": {
        "colab": {
          "base_uri": "https://localhost:8080/",
          "height": 467
        },
        "id": "vhJExlPdB8R_",
        "outputId": "f43e3fdd-d136-4c79-9242-c9da17e7ef12"
      },
      "execution_count": null,
      "outputs": [
        {
          "output_type": "execute_result",
          "data": {
            "text/plain": [
              "<sklearn.metrics._plot.confusion_matrix.ConfusionMatrixDisplay at 0x7ff3f7d8f460>"
            ]
          },
          "metadata": {},
          "execution_count": 37
        },
        {
          "output_type": "display_data",
          "data": {
            "text/plain": [
              "<Figure size 640x480 with 2 Axes>"
            ],
            "image/png": "[encoded data removed]"
          },
          "metadata": {}
        }
      ]
    },
    {
      "cell_type": "markdown",
      "source": [
        "# Handling Class Imbalance"
      ],
      "metadata": {
        "id": "MUN_jG-yMnKB"
      }
    },
    {
      "cell_type": "code",
      "source": [
        "sm = SMOTE(random_state=42)\n",
        "X_res, y_res = sm.fit_resample(X_train, y_train)"
      ],
      "metadata": {
        "id": "kZXfTWtmMmgc"
      },
      "execution_count": 22,
      "outputs": []
    },
    {
      "cell_type": "code",
      "source": [
        "# define classifier\n",
        "mlp_smote = MLPClassifier()\n",
        "\n",
        "# train classifier\n",
        "mlp_smote.fit(X_res, y_res)"
      ],
      "metadata": {
        "colab": {
          "base_uri": "https://localhost:8080/",
          "height": 130
        },
        "id": "TPX8l1dfM7og",
        "outputId": "1f200ef5-634b-450a-fc84-948458500a6a"
      },
      "execution_count": 23,
      "outputs": [
        {
          "output_type": "stream",
          "name": "stderr",
          "text": [
            "/usr/local/lib/python3.10/dist-packages/sklearn/neural_network/_multilayer_perceptron.py:686: ConvergenceWarning: Stochastic Optimizer: Maximum iterations (200) reached and the optimization hasn't converged yet.\n",
            "  warnings.warn(\n"
          ]
        },
        {
          "output_type": "execute_result",
          "data": {
            "text/plain": [
              "MLPClassifier()"
            ],
            "text/html": [
              "<style>#sk-container-id-1 {color: black;background-color: white;}#sk-container-id-1 pre{padding: 0;}#sk-container-id-1 div.sk-toggleable {background-color: white;}#sk-container-id-1 label.sk-toggleable__label {cursor: pointer;display: block;width: 100%;margin-bottom: 0;padding: 0.3em;box-sizing: border-box;text-align: center;}#sk-container-id-1 label.sk-toggleable__label-arrow:before {content: \"▸\";float: left;margin-right: 0.25em;color: #696969;}#sk-container-id-1 label.sk-toggleable__label-arrow:hover:before {color: black;}#sk-container-id-1 div.sk-estimator:hover label.sk-toggleable__label-arrow:before {color: black;}#sk-container-id-1 div.sk-toggleable__content {max-height: 0;max-width: 0;overflow: hidden;text-align: left;background-color: #f0f8ff;}#sk-container-id-1 div.sk-toggleable__content pre {margin: 0.2em;color: black;border-radius: 0.25em;background-color: #f0f8ff;}#sk-container-id-1 input.sk-toggleable__control:checked~div.sk-toggleable__content {max-height: 200px;max-width: 100%;overflow: auto;}#sk-container-id-1 input.sk-toggleable__control:checked~label.sk-toggleable__label-arrow:before {content: \"▾\";}#sk-container-id-1 div.sk-estimator input.sk-toggleable__control:checked~label.sk-toggleable__label {background-color: #d4ebff;}#sk-container-id-1 div.sk-label input.sk-toggleable__control:checked~label.sk-toggleable__label {background-color: #d4ebff;}#sk-container-id-1 input.sk-hidden--visually {border: 0;clip: rect(1px 1px 1px 1px);clip: rect(1px, 1px, 1px, 1px);height: 1px;margin: -1px;overflow: hidden;padding: 0;position: absolute;width: 1px;}#sk-container-id-1 div.sk-estimator {font-family: monospace;background-color: #f0f8ff;border: 1px dotted black;border-radius: 0.25em;box-sizing: border-box;margin-bottom: 0.5em;}#sk-container-id-1 div.sk-estimator:hover {background-color: #d4ebff;}#sk-container-id-1 div.sk-parallel-item::after {content: \"\";width: 100%;border-bottom: 1px solid gray;flex-grow: 1;}#sk-container-id-1 div.sk-label:hover label.sk-toggleable__label {background-color: #d4ebff;}#sk-container-id-1 div.sk-serial::before {content: \"\";position: absolute;border-left: 1px solid gray;box-sizing: border-box;top: 0;bottom: 0;left: 50%;z-index: 0;}#sk-container-id-1 div.sk-serial {display: flex;flex-direction: column;align-items: center;background-color: white;padding-right: 0.2em;padding-left: 0.2em;position: relative;}#sk-container-id-1 div.sk-item {position: relative;z-index: 1;}#sk-container-id-1 div.sk-parallel {display: flex;align-items: stretch;justify-content: center;background-color: white;position: relative;}#sk-container-id-1 div.sk-item::before, #sk-container-id-1 div.sk-parallel-item::before {content: \"\";position: absolute;border-left: 1px solid gray;box-sizing: border-box;top: 0;bottom: 0;left: 50%;z-index: -1;}#sk-container-id-1 div.sk-parallel-item {display: flex;flex-direction: column;z-index: 1;position: relative;background-color: white;}#sk-container-id-1 div.sk-parallel-item:first-child::after {align-self: flex-end;width: 50%;}#sk-container-id-1 div.sk-parallel-item:last-child::after {align-self: flex-start;width: 50%;}#sk-container-id-1 div.sk-parallel-item:only-child::after {width: 0;}#sk-container-id-1 div.sk-dashed-wrapped {border: 1px dashed gray;margin: 0 0.4em 0.5em 0.4em;box-sizing: border-box;padding-bottom: 0.4em;background-color: white;}#sk-container-id-1 div.sk-label label {font-family: monospace;font-weight: bold;display: inline-block;line-height: 1.2em;}#sk-container-id-1 div.sk-label-container {text-align: center;}#sk-container-id-1 div.sk-container {/* jupyter's `normalize.less` sets `[hidden] { display: none; }` but bootstrap.min.css set `[hidden] { display: none !important; }` so we also need the `!important` here to be able to override the default hidden behavior on the sphinx rendered scikit-learn.org. See: https://github.com/scikit-learn/scikit-learn/issues/21755 */display: inline-block !important;position: relative;}#sk-container-id-1 div.sk-text-repr-fallback {display: none;}</style><div id=\"sk-container-id-1\" class=\"sk-top-container\"><div class=\"sk-text-repr-fallback\"><pre>MLPClassifier()</pre><b>In a Jupyter environment, please rerun this cell to show the HTML representation or trust the notebook. <br />On GitHub, the HTML representation is unable to render, please try loading this page with nbviewer.org.</b></div><div class=\"sk-container\" hidden><div class=\"sk-item\"><div class=\"sk-estimator sk-toggleable\"><input class=\"sk-toggleable__control sk-hidden--visually\" id=\"sk-estimator-id-1\" type=\"checkbox\" checked><label for=\"sk-estimator-id-1\" class=\"sk-toggleable__label sk-toggleable__label-arrow\">MLPClassifier</label><div class=\"sk-toggleable__content\"><pre>MLPClassifier()</pre></div></div></div></div></div>"
            ]
          },
          "metadata": {},
          "execution_count": 23
        }
      ]
    },
    {
      "cell_type": "code",
      "source": [
        "y_pred_mlp_smote = mlp_smote.predict(X_test)\n",
        "print(classification_report(y_test, y_pred_mlp_smote))"
      ],
      "metadata": {
        "colab": {
          "base_uri": "https://localhost:8080/"
        },
        "id": "DIJkNKIrNDMf",
        "outputId": "1ac2c621-35a0-44e8-8f09-b4f92a759a4b"
      },
      "execution_count": 24,
      "outputs": [
        {
          "output_type": "stream",
          "name": "stdout",
          "text": [
            "              precision    recall  f1-score   support\n",
            "\n",
            "           0       0.91      0.83      0.86      1578\n",
            "           1       0.57      0.73      0.64       503\n",
            "\n",
            "    accuracy                           0.80      2081\n",
            "   macro avg       0.74      0.78      0.75      2081\n",
            "weighted avg       0.83      0.80      0.81      2081\n",
            "\n"
          ]
        }
      ]
    },
    {
      "cell_type": "code",
      "source": [
        "cm = confusion_matrix(y_test, y_pred_mlp_smote, labels=mlp_smote.classes_)\n",
        "disp = ConfusionMatrixDisplay(confusion_matrix=cm, display_labels=mlp_smote.classes_)\n",
        "disp.plot()"
      ],
      "metadata": {
        "colab": {
          "base_uri": "https://localhost:8080/",
          "height": 467
        },
        "id": "fUg8O-lINGYF",
        "outputId": "0dd857a3-01d1-4a42-b965-548ce75d42b6"
      },
      "execution_count": 25,
      "outputs": [
        {
          "output_type": "execute_result",
          "data": {
            "text/plain": [
              "<sklearn.metrics._plot.confusion_matrix.ConfusionMatrixDisplay at 0x7fcd6df23c10>"
            ]
          },
          "metadata": {},
          "execution_count": 25
        },
        {
          "output_type": "display_data",
          "data": {
            "text/plain": [
              "<Figure size 640x480 with 2 Axes>"
            ],
            "image/png": "[encoded data removed]"
          },
          "metadata": {}
        }
      ]
    }
  ]
}